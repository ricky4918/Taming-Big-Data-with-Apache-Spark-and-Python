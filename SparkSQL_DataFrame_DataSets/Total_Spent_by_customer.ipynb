{
 "cells": [
  {
   "cell_type": "code",
   "execution_count": 1,
   "metadata": {},
   "outputs": [],
   "source": [
    "import findspark\n",
    "findspark.init()\n",
    "from pyspark.sql import SparkSession\n",
    "from pyspark.sql import Row\n",
    "from pyspark.sql import functions as func\n",
    "from pyspark.sql.types import StructType, StructField, StringType, IntegerType, FloatType\n",
    "spark = SparkSession.builder.appName('TPBC').getOrCreate()"
   ]
  },
  {
   "cell_type": "code",
   "execution_count": 3,
   "metadata": {},
   "outputs": [],
   "source": [
    "schema = StructType([StructField(\"CustomerID\", IntegerType(), True),\n",
    "                     StructField(\"ItemID\", IntegerType(), True),\n",
    "                     StructField(\"Spent\", FloatType(), True),\n",
    "                     ])"
   ]
  },
  {
   "cell_type": "code",
   "execution_count": 4,
   "metadata": {},
   "outputs": [],
   "source": [
    "df = spark.read.schema(schema).csv(\"data/customer-orders.csv\")"
   ]
  },
  {
   "cell_type": "code",
   "execution_count": 5,
   "metadata": {},
   "outputs": [
    {
     "name": "stdout",
     "output_type": "stream",
     "text": [
      "root\n",
      " |-- CustomerID: integer (nullable = true)\n",
      " |-- ItemID: integer (nullable = true)\n",
      " |-- Spent: float (nullable = true)\n",
      "\n"
     ]
    }
   ],
   "source": [
    "df.printSchema()"
   ]
  },
  {
   "cell_type": "code",
   "execution_count": 8,
   "metadata": {},
   "outputs": [],
   "source": [
    "totalByCustomer = df.groupBy('CustomerID').agg(func.round(func.sum(\"Spent\"),2).alias(\"total_spent\"))\n"
   ]
  },
  {
   "cell_type": "code",
   "execution_count": 9,
   "metadata": {},
   "outputs": [],
   "source": [
    "final = totalByCustomer.sort(\"total_spent\")"
   ]
  },
  {
   "cell_type": "code",
   "execution_count": 18,
   "metadata": {},
   "outputs": [
    {
     "name": "stdout",
     "output_type": "stream",
     "text": [
      "+----------+-----------+\n",
      "|CustomerID|total_spent|\n",
      "+----------+-----------+\n",
      "|        45|    3309.38|\n",
      "|        79|    3790.57|\n",
      "|        96|    3924.23|\n",
      "|        23|    4042.65|\n",
      "|        99|    4172.29|\n",
      "|        75|     4178.5|\n",
      "|        36|    4278.05|\n",
      "|        98|    4297.26|\n",
      "|        47|     4316.3|\n",
      "|        77|    4327.73|\n",
      "|        13|    4367.62|\n",
      "|        48|    4384.33|\n",
      "|        49|     4394.6|\n",
      "|        94|    4475.57|\n",
      "|        67|    4505.79|\n",
      "|        50|    4517.27|\n",
      "|        78|    4524.51|\n",
      "|         5|    4561.07|\n",
      "|        57|     4628.4|\n",
      "|        83|     4635.8|\n",
      "|        91|    4642.26|\n",
      "|        74|    4647.13|\n",
      "|        84|    4652.94|\n",
      "|         3|    4659.63|\n",
      "|        12|    4664.59|\n",
      "|        66|    4681.92|\n",
      "|        56|    4701.02|\n",
      "|        21|    4707.41|\n",
      "|        80|    4727.86|\n",
      "|        14|    4735.03|\n",
      "|        37|     4735.2|\n",
      "|         7|    4755.07|\n",
      "|        44|    4756.89|\n",
      "|        31|    4765.05|\n",
      "|        82|    4812.49|\n",
      "|         4|    4815.05|\n",
      "|        10|     4819.7|\n",
      "|        88|    4830.55|\n",
      "|        20|    4836.86|\n",
      "|        89|    4851.48|\n",
      "|        95|    4876.84|\n",
      "|        38|    4898.46|\n",
      "|        76|    4904.21|\n",
      "|        86|    4908.81|\n",
      "|        27|    4915.89|\n",
      "|        18|    4921.27|\n",
      "|        53|     4945.3|\n",
      "|         1|     4958.6|\n",
      "|        51|    4975.22|\n",
      "|        16|    4979.06|\n",
      "|        30|    4990.72|\n",
      "|        28|    5000.71|\n",
      "|        22|    5019.45|\n",
      "|        29|    5032.53|\n",
      "|        17|    5032.68|\n",
      "|        60|    5040.71|\n",
      "|        25|    5057.61|\n",
      "|        19|    5059.43|\n",
      "|        81|    5112.71|\n",
      "|        69|    5123.01|\n",
      "|        65|    5140.35|\n",
      "|        11|    5152.29|\n",
      "|        35|    5155.42|\n",
      "|        40|    5186.43|\n",
      "|        87|     5206.4|\n",
      "|        52|    5245.06|\n",
      "|        26|     5250.4|\n",
      "|        62|    5253.32|\n",
      "|        33|    5254.66|\n",
      "|        24|    5259.92|\n",
      "|        93|    5265.75|\n",
      "|        64|    5288.69|\n",
      "|        90|    5290.41|\n",
      "|        55|    5298.09|\n",
      "|         9|    5322.65|\n",
      "|        34|     5330.8|\n",
      "|        72|    5337.44|\n",
      "|        70|    5368.25|\n",
      "|        43|    5368.83|\n",
      "|        92|    5379.28|\n",
      "|         6|    5397.88|\n",
      "|        15|    5413.51|\n",
      "|        63|    5415.15|\n",
      "|        58|    5437.73|\n",
      "|        32|    5496.05|\n",
      "|        61|    5497.48|\n",
      "|        85|    5503.43|\n",
      "|         8|    5517.24|\n",
      "|         0|    5524.95|\n",
      "|        41|    5637.62|\n",
      "|        59|    5642.89|\n",
      "|        42|    5696.84|\n",
      "|        46|    5963.11|\n",
      "|        97|    5977.19|\n",
      "|         2|    5994.59|\n",
      "|        71|    5995.66|\n",
      "|        54|    6065.39|\n",
      "|        39|    6193.11|\n",
      "|        73|     6206.2|\n",
      "|        68|    6375.45|\n",
      "+----------+-----------+\n",
      "\n"
     ]
    }
   ],
   "source": [
    "final.show(final.count())"
   ]
  },
  {
   "cell_type": "code",
   "execution_count": null,
   "metadata": {},
   "outputs": [],
   "source": []
  }
 ],
 "metadata": {
  "kernelspec": {
   "display_name": "Python 3.9.12 ('myenv')",
   "language": "python",
   "name": "python3"
  },
  "language_info": {
   "codemirror_mode": {
    "name": "ipython",
    "version": 3
   },
   "file_extension": ".py",
   "mimetype": "text/x-python",
   "name": "python",
   "nbconvert_exporter": "python",
   "pygments_lexer": "ipython3",
   "version": "3.9.12"
  },
  "orig_nbformat": 4,
  "vscode": {
   "interpreter": {
    "hash": "d0cba66a251407c4fd3274a4451f5ba531487019d435e911d200eb38a157ba3e"
   }
  }
 },
 "nbformat": 4,
 "nbformat_minor": 2
}
