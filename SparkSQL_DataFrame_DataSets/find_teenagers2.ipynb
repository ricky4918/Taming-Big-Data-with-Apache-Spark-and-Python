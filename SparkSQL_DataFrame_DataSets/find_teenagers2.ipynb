{
 "cells": [
  {
   "cell_type": "code",
   "execution_count": 20,
   "metadata": {},
   "outputs": [],
   "source": [
    "import findspark\n",
    "findspark.init()\n",
    "from pyspark.sql import SparkSession\n",
    "from pyspark.sql import Row\n",
    "spark = SparkSession.builder.appName('teen').getOrCreate()"
   ]
  },
  {
   "cell_type": "code",
   "execution_count": 22,
   "metadata": {},
   "outputs": [],
   "source": [
    "people = spark.read.csv('data/fakefriends-header.csv', inferSchema= True, header = True)"
   ]
  },
  {
   "cell_type": "code",
   "execution_count": 23,
   "metadata": {},
   "outputs": [
    {
     "name": "stdout",
     "output_type": "stream",
     "text": [
      "root\n",
      " |-- userID: integer (nullable = true)\n",
      " |-- name: string (nullable = true)\n",
      " |-- age: integer (nullable = true)\n",
      " |-- friends: integer (nullable = true)\n",
      "\n"
     ]
    }
   ],
   "source": [
    "people.printSchema()"
   ]
  },
  {
   "cell_type": "code",
   "execution_count": 24,
   "metadata": {},
   "outputs": [
    {
     "name": "stdout",
     "output_type": "stream",
     "text": [
      "+--------+\n",
      "|    name|\n",
      "+--------+\n",
      "|    Will|\n",
      "|Jean-Luc|\n",
      "|    Hugh|\n",
      "|  Deanna|\n",
      "|   Quark|\n",
      "|  Weyoun|\n",
      "|  Gowron|\n",
      "|    Will|\n",
      "|  Jadzia|\n",
      "|    Hugh|\n",
      "|     Odo|\n",
      "|     Ben|\n",
      "|   Keiko|\n",
      "|Jean-Luc|\n",
      "|    Hugh|\n",
      "|     Rom|\n",
      "|  Weyoun|\n",
      "|     Odo|\n",
      "|Jean-Luc|\n",
      "|  Geordi|\n",
      "+--------+\n",
      "only showing top 20 rows\n",
      "\n"
     ]
    }
   ],
   "source": [
    "people.select('name').show()"
   ]
  },
  {
   "cell_type": "code",
   "execution_count": 25,
   "metadata": {},
   "outputs": [
    {
     "name": "stdout",
     "output_type": "stream",
     "text": [
      "+------+-------+---+-------+\n",
      "|userID|   name|age|friends|\n",
      "+------+-------+---+-------+\n",
      "|    21|  Miles| 19|    268|\n",
      "|    48|    Nog| 20|      1|\n",
      "|    52|Beverly| 19|    269|\n",
      "|    54|  Brunt| 19|      5|\n",
      "|    60| Geordi| 20|    100|\n",
      "|    73|  Brunt| 20|    384|\n",
      "|   106|Beverly| 18|    499|\n",
      "|   115|  Dukat| 18|    397|\n",
      "|   133|  Quark| 19|    265|\n",
      "|   136|   Will| 19|    335|\n",
      "|   225|   Elim| 19|    106|\n",
      "|   304|   Will| 19|    404|\n",
      "|   327| Julian| 20|     63|\n",
      "|   341|   Data| 18|    326|\n",
      "|   349| Kasidy| 20|    277|\n",
      "|   366|  Keiko| 19|    119|\n",
      "|   373|  Quark| 19|    272|\n",
      "|   377|Beverly| 18|    418|\n",
      "|   404| Kasidy| 18|     24|\n",
      "|   409|    Nog| 19|    267|\n",
      "+------+-------+---+-------+\n",
      "only showing top 20 rows\n",
      "\n"
     ]
    }
   ],
   "source": [
    "people.filter(people.age <21).show()"
   ]
  },
  {
   "cell_type": "code",
   "execution_count": 26,
   "metadata": {},
   "outputs": [
    {
     "name": "stdout",
     "output_type": "stream",
     "text": [
      "+---+-----+\n",
      "|age|count|\n",
      "+---+-----+\n",
      "| 31|    8|\n",
      "| 65|    5|\n",
      "| 53|    7|\n",
      "| 34|    6|\n",
      "| 28|   10|\n",
      "| 26|   17|\n",
      "| 27|    8|\n",
      "| 44|   12|\n",
      "| 22|    7|\n",
      "| 47|    9|\n",
      "| 52|   11|\n",
      "| 40|   17|\n",
      "| 20|    5|\n",
      "| 57|   12|\n",
      "| 54|   13|\n",
      "| 48|   10|\n",
      "| 19|   11|\n",
      "| 64|   12|\n",
      "| 41|    9|\n",
      "| 43|    7|\n",
      "+---+-----+\n",
      "only showing top 20 rows\n",
      "\n"
     ]
    }
   ],
   "source": [
    "people.groupBy('age').count().show()"
   ]
  },
  {
   "cell_type": "code",
   "execution_count": 27,
   "metadata": {},
   "outputs": [
    {
     "name": "stdout",
     "output_type": "stream",
     "text": [
      "+--------+----------+\n",
      "|    name|(age + 10)|\n",
      "+--------+----------+\n",
      "|    Will|        43|\n",
      "|Jean-Luc|        36|\n",
      "|    Hugh|        65|\n",
      "|  Deanna|        50|\n",
      "|   Quark|        78|\n",
      "|  Weyoun|        69|\n",
      "|  Gowron|        47|\n",
      "|    Will|        64|\n",
      "|  Jadzia|        48|\n",
      "|    Hugh|        37|\n",
      "|     Odo|        63|\n",
      "|     Ben|        67|\n",
      "|   Keiko|        64|\n",
      "|Jean-Luc|        66|\n",
      "|    Hugh|        53|\n",
      "|     Rom|        46|\n",
      "|  Weyoun|        32|\n",
      "|     Odo|        45|\n",
      "|Jean-Luc|        55|\n",
      "|  Geordi|        70|\n",
      "+--------+----------+\n",
      "only showing top 20 rows\n",
      "\n"
     ]
    }
   ],
   "source": [
    "people.select(people.name, people.age + 10).show()"
   ]
  },
  {
   "cell_type": "code",
   "execution_count": 28,
   "metadata": {},
   "outputs": [],
   "source": [
    "friendsByAge = people.select('age', 'friends')"
   ]
  },
  {
   "cell_type": "code",
   "execution_count": 30,
   "metadata": {},
   "outputs": [
    {
     "name": "stdout",
     "output_type": "stream",
     "text": [
      "+---+------------------+\n",
      "|age|      avg(friends)|\n",
      "+---+------------------+\n",
      "| 31|            267.25|\n",
      "| 65|             298.2|\n",
      "| 53|222.85714285714286|\n",
      "| 34|             245.5|\n",
      "| 28|             209.1|\n",
      "| 26|242.05882352941177|\n",
      "| 27|           228.125|\n",
      "| 44| 282.1666666666667|\n",
      "| 22|206.42857142857142|\n",
      "| 47|233.22222222222223|\n",
      "| 52| 340.6363636363636|\n",
      "| 40| 250.8235294117647|\n",
      "| 20|             165.0|\n",
      "| 57| 258.8333333333333|\n",
      "| 54| 278.0769230769231|\n",
      "| 48|             281.4|\n",
      "| 19|213.27272727272728|\n",
      "| 64| 281.3333333333333|\n",
      "| 41|268.55555555555554|\n",
      "| 43|230.57142857142858|\n",
      "+---+------------------+\n",
      "only showing top 20 rows\n",
      "\n"
     ]
    }
   ],
   "source": [
    "friendsByAge.groupBy('age').avg('friends').show()"
   ]
  },
  {
   "cell_type": "code",
   "execution_count": 31,
   "metadata": {},
   "outputs": [
    {
     "name": "stdout",
     "output_type": "stream",
     "text": [
      "+---+------------------+\n",
      "|age|      avg(friends)|\n",
      "+---+------------------+\n",
      "| 18|           343.375|\n",
      "| 19|213.27272727272728|\n",
      "| 20|             165.0|\n",
      "| 21|           350.875|\n",
      "| 22|206.42857142857142|\n",
      "| 23|             246.3|\n",
      "| 24|             233.8|\n",
      "| 25|197.45454545454547|\n",
      "| 26|242.05882352941177|\n",
      "| 27|           228.125|\n",
      "| 28|             209.1|\n",
      "| 29|215.91666666666666|\n",
      "| 30| 235.8181818181818|\n",
      "| 31|            267.25|\n",
      "| 32| 207.9090909090909|\n",
      "| 33| 325.3333333333333|\n",
      "| 34|             245.5|\n",
      "| 35|           211.625|\n",
      "| 36|             246.6|\n",
      "| 37|249.33333333333334|\n",
      "+---+------------------+\n",
      "only showing top 20 rows\n",
      "\n"
     ]
    }
   ],
   "source": [
    "friendsByAge.groupBy('age').avg('friends').sort('age').show()"
   ]
  },
  {
   "cell_type": "code",
   "execution_count": 33,
   "metadata": {},
   "outputs": [
    {
     "name": "stdout",
     "output_type": "stream",
     "text": [
      "+---+----------------------+\n",
      "|age|round(avg(friends), 2)|\n",
      "+---+----------------------+\n",
      "| 18|                343.38|\n",
      "| 19|                213.27|\n",
      "| 20|                 165.0|\n",
      "| 21|                350.88|\n",
      "| 22|                206.43|\n",
      "| 23|                 246.3|\n",
      "| 24|                 233.8|\n",
      "| 25|                197.45|\n",
      "| 26|                242.06|\n",
      "| 27|                228.13|\n",
      "| 28|                 209.1|\n",
      "| 29|                215.92|\n",
      "| 30|                235.82|\n",
      "| 31|                267.25|\n",
      "| 32|                207.91|\n",
      "| 33|                325.33|\n",
      "| 34|                 245.5|\n",
      "| 35|                211.63|\n",
      "| 36|                 246.6|\n",
      "| 37|                249.33|\n",
      "+---+----------------------+\n",
      "only showing top 20 rows\n",
      "\n"
     ]
    }
   ],
   "source": [
    "from pyspark.sql import functions as func\n",
    "friendsByAge.groupBy('age').agg(func.round(func.avg('friends'),2)).sort('age').show()"
   ]
  },
  {
   "cell_type": "code",
   "execution_count": 35,
   "metadata": {},
   "outputs": [
    {
     "name": "stdout",
     "output_type": "stream",
     "text": [
      "+---+-----------+\n",
      "|age|friends_avg|\n",
      "+---+-----------+\n",
      "| 18|     343.38|\n",
      "| 19|     213.27|\n",
      "| 20|      165.0|\n",
      "| 21|     350.88|\n",
      "| 22|     206.43|\n",
      "| 23|      246.3|\n",
      "| 24|      233.8|\n",
      "| 25|     197.45|\n",
      "| 26|     242.06|\n",
      "| 27|     228.13|\n",
      "| 28|      209.1|\n",
      "| 29|     215.92|\n",
      "| 30|     235.82|\n",
      "| 31|     267.25|\n",
      "| 32|     207.91|\n",
      "| 33|     325.33|\n",
      "| 34|      245.5|\n",
      "| 35|     211.63|\n",
      "| 36|      246.6|\n",
      "| 37|     249.33|\n",
      "+---+-----------+\n",
      "only showing top 20 rows\n",
      "\n"
     ]
    }
   ],
   "source": [
    "friendsByAge.groupBy('age').agg(func.round(func.avg('friends'),2).alias('friends_avg')).sort('age').show()"
   ]
  },
  {
   "cell_type": "code",
   "execution_count": null,
   "metadata": {},
   "outputs": [],
   "source": []
  }
 ],
 "metadata": {
  "kernelspec": {
   "display_name": "Python 3.9.12 ('myenv')",
   "language": "python",
   "name": "python3"
  },
  "language_info": {
   "codemirror_mode": {
    "name": "ipython",
    "version": 3
   },
   "file_extension": ".py",
   "mimetype": "text/x-python",
   "name": "python",
   "nbconvert_exporter": "python",
   "pygments_lexer": "ipython3",
   "version": "3.9.12"
  },
  "orig_nbformat": 4,
  "vscode": {
   "interpreter": {
    "hash": "d0cba66a251407c4fd3274a4451f5ba531487019d435e911d200eb38a157ba3e"
   }
  }
 },
 "nbformat": 4,
 "nbformat_minor": 2
}
