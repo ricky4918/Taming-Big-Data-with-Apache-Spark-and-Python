{
 "cells": [
  {
   "cell_type": "code",
   "execution_count": 14,
   "metadata": {},
   "outputs": [],
   "source": [
    "import findspark\n",
    "findspark.init()\n",
    "from __future__ import print_function\n",
    "from pyspark.ml.regression import LinearRegression\n",
    "from pyspark.sql import SparkSession\n",
    "from pyspark.ml.feature import VectorAssembler\n",
    "from pyspark.ml.regression import DecisionTreeRegressor"
   ]
  },
  {
   "cell_type": "code",
   "execution_count": 15,
   "metadata": {},
   "outputs": [],
   "source": [
    "spark = SparkSession.builder.appName('DecisionTree').getOrCreate()"
   ]
  },
  {
   "cell_type": "code",
   "execution_count": 16,
   "metadata": {},
   "outputs": [],
   "source": [
    "data = spark.read.csv('data/realestate.csv', inferSchema= True, header = True)"
   ]
  },
  {
   "cell_type": "code",
   "execution_count": 17,
   "metadata": {},
   "outputs": [],
   "source": [
    "assembler = VectorAssembler().setInputCols(['HouseAge', \"DistanceToMRT\", \"NumberConvenienceStores\"]).setOutputCol(\"features\")"
   ]
  },
  {
   "cell_type": "code",
   "execution_count": 20,
   "metadata": {},
   "outputs": [],
   "source": [
    "df = assembler.transform(data).select(\"PriceOfUnitArea\", \"features\")"
   ]
  },
  {
   "cell_type": "code",
   "execution_count": 21,
   "metadata": {},
   "outputs": [],
   "source": [
    "train, test = df.randomSplit([0.7,0.3])"
   ]
  },
  {
   "cell_type": "code",
   "execution_count": 22,
   "metadata": {},
   "outputs": [],
   "source": [
    "dtr = DecisionTreeRegressor(featuresCol=\"features\", labelCol=\"PriceOfUnitArea\")"
   ]
  },
  {
   "cell_type": "code",
   "execution_count": 23,
   "metadata": {},
   "outputs": [],
   "source": [
    "model = dtr.fit(train)"
   ]
  },
  {
   "cell_type": "code",
   "execution_count": 26,
   "metadata": {},
   "outputs": [],
   "source": [
    "fullPredictions = model.transform(test).cache()"
   ]
  },
  {
   "cell_type": "code",
   "execution_count": 27,
   "metadata": {},
   "outputs": [
    {
     "name": "stdout",
     "output_type": "stream",
     "text": [
      "+---------------+-------------------+------------------+\n",
      "|PriceOfUnitArea|           features|        prediction|\n",
      "+---------------+-------------------+------------------+\n",
      "|           11.2|[17.4,6488.021,1.0]|15.514285714285714|\n",
      "|           12.2|[30.9,6396.283,1.0]|17.733333333333338|\n",
      "|           12.8|[16.5,4082.015,0.0]|15.514285714285714|\n",
      "|           12.9|[16.1,4066.587,0.0]|21.457142857142863|\n",
      "|           13.0|[13.6,4197.349,0.0]|            17.675|\n",
      "|           13.8|[31.7,1159.454,0.0]|21.457142857142863|\n",
      "|           15.4|[13.7,4082.015,0.0]|            17.675|\n",
      "|           15.5| [26.9,4449.27,0.0]|17.733333333333338|\n",
      "|           17.4|[31.5,5512.038,1.0]|17.733333333333338|\n",
      "|           17.7|[25.3,2707.392,3.0]| 25.48518518518518|\n",
      "|           18.6|[13.5,4197.349,0.0]|            17.675|\n",
      "|           18.8|[31.7,5512.038,1.0]|17.733333333333338|\n",
      "|           20.9|[15.0,1828.319,2.0]| 25.48518518518518|\n",
      "|           21.4|[12.8,1449.722,3.0]|             26.01|\n",
      "|           21.7| [4.8,1559.827,3.0]| 30.91818181818182|\n",
      "|           22.0| [8.9,3078.176,0.0]|             38.44|\n",
      "|           22.1| [25.9,4519.69,0.0]|15.514285714285714|\n",
      "|           22.8|[30.0,1013.341,5.0]|25.650000000000006|\n",
      "|           23.2|[16.5,2288.011,3.0]| 25.48518518518518|\n",
      "|           23.6|[13.5,2147.376,3.0]| 25.48518518518518|\n",
      "+---------------+-------------------+------------------+\n",
      "only showing top 20 rows\n",
      "\n"
     ]
    }
   ],
   "source": [
    "fullPredictions.show()"
   ]
  },
  {
   "cell_type": "code",
   "execution_count": 34,
   "metadata": {},
   "outputs": [],
   "source": [
    "predictionAndLabel = fullPredictions.select('PriceOfUnitArea','prediction' )"
   ]
  },
  {
   "cell_type": "code",
   "execution_count": 35,
   "metadata": {},
   "outputs": [
    {
     "name": "stdout",
     "output_type": "stream",
     "text": [
      "+---------------+------------------+\n",
      "|PriceOfUnitArea|        prediction|\n",
      "+---------------+------------------+\n",
      "|           11.2|15.514285714285714|\n",
      "|           12.2|17.733333333333338|\n",
      "|           12.8|15.514285714285714|\n",
      "|           12.9|21.457142857142863|\n",
      "|           13.0|            17.675|\n",
      "|           13.8|21.457142857142863|\n",
      "|           15.4|            17.675|\n",
      "|           15.5|17.733333333333338|\n",
      "|           17.4|17.733333333333338|\n",
      "|           17.7| 25.48518518518518|\n",
      "|           18.6|            17.675|\n",
      "|           18.8|17.733333333333338|\n",
      "|           20.9| 25.48518518518518|\n",
      "|           21.4|             26.01|\n",
      "|           21.7| 30.91818181818182|\n",
      "|           22.0|             38.44|\n",
      "|           22.1|15.514285714285714|\n",
      "|           22.8|25.650000000000006|\n",
      "|           23.2| 25.48518518518518|\n",
      "|           23.6| 25.48518518518518|\n",
      "+---------------+------------------+\n",
      "only showing top 20 rows\n",
      "\n"
     ]
    }
   ],
   "source": [
    "predictionAndLabel.show()"
   ]
  },
  {
   "cell_type": "code",
   "execution_count": null,
   "metadata": {},
   "outputs": [],
   "source": []
  }
 ],
 "metadata": {
  "kernelspec": {
   "display_name": "Python 3.9.12 ('myenv')",
   "language": "python",
   "name": "python3"
  },
  "language_info": {
   "codemirror_mode": {
    "name": "ipython",
    "version": 3
   },
   "file_extension": ".py",
   "mimetype": "text/x-python",
   "name": "python",
   "nbconvert_exporter": "python",
   "pygments_lexer": "ipython3",
   "version": "3.9.12"
  },
  "orig_nbformat": 4,
  "vscode": {
   "interpreter": {
    "hash": "d0cba66a251407c4fd3274a4451f5ba531487019d435e911d200eb38a157ba3e"
   }
  }
 },
 "nbformat": 4,
 "nbformat_minor": 2
}
