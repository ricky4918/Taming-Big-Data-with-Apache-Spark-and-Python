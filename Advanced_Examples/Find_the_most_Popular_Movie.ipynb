{
 "cells": [
  {
   "cell_type": "code",
   "execution_count": 1,
   "metadata": {},
   "outputs": [],
   "source": [
    "import findspark\n",
    "findspark.init()\n",
    "from pyspark.sql import SparkSession\n",
    "from pyspark.sql import Row\n",
    "from pyspark.sql import functions as func\n",
    "from pyspark.sql.types import StructType, StructField, StringType, IntegerType, FloatType, LongType\n",
    "spark = SparkSession.builder.appName('findPmovie').getOrCreate()"
   ]
  },
  {
   "cell_type": "code",
   "execution_count": 2,
   "metadata": {},
   "outputs": [],
   "source": [
    "schema = StructType([StructField(\"userID\", IntegerType(), True),\n",
    "                     StructField(\"movieID\", IntegerType(), True),\n",
    "                     StructField(\"rating\", IntegerType(), True),\n",
    "                     StructField(\"timestamp\", LongType(), True)\n",
    "                     ])"
   ]
  },
  {
   "cell_type": "code",
   "execution_count": 3,
   "metadata": {},
   "outputs": [],
   "source": [
    "movieDF = spark.read.option('sep', '\\t').schema(schema).csv(\"../ml-100k/u.data\")"
   ]
  },
  {
   "cell_type": "code",
   "execution_count": 4,
   "metadata": {},
   "outputs": [
    {
     "name": "stdout",
     "output_type": "stream",
     "text": [
      "+------+-------+------+---------+\n",
      "|userID|movieID|rating|timestamp|\n",
      "+------+-------+------+---------+\n",
      "|   196|    242|     3|881250949|\n",
      "|   186|    302|     3|891717742|\n",
      "|    22|    377|     1|878887116|\n",
      "|   244|     51|     2|880606923|\n",
      "|   166|    346|     1|886397596|\n",
      "|   298|    474|     4|884182806|\n",
      "|   115|    265|     2|881171488|\n",
      "|   253|    465|     5|891628467|\n",
      "|   305|    451|     3|886324817|\n",
      "|     6|     86|     3|883603013|\n",
      "|    62|    257|     2|879372434|\n",
      "|   286|   1014|     5|879781125|\n",
      "|   200|    222|     5|876042340|\n",
      "|   210|     40|     3|891035994|\n",
      "|   224|     29|     3|888104457|\n",
      "|   303|    785|     3|879485318|\n",
      "|   122|    387|     5|879270459|\n",
      "|   194|    274|     2|879539794|\n",
      "|   291|   1042|     4|874834944|\n",
      "|   234|   1184|     2|892079237|\n",
      "+------+-------+------+---------+\n",
      "only showing top 20 rows\n",
      "\n"
     ]
    }
   ],
   "source": [
    "movieDF.show()"
   ]
  },
  {
   "cell_type": "code",
   "execution_count": 5,
   "metadata": {},
   "outputs": [],
   "source": [
    "topMovieIDs = movieDF.groupBy(\"movieID\").count().orderBy(func.desc(\"count\"))"
   ]
  },
  {
   "cell_type": "code",
   "execution_count": 6,
   "metadata": {},
   "outputs": [
    {
     "name": "stdout",
     "output_type": "stream",
     "text": [
      "+-------+-----+\n",
      "|movieID|count|\n",
      "+-------+-----+\n",
      "|     50|  583|\n",
      "|    258|  509|\n",
      "|    100|  508|\n",
      "|    181|  507|\n",
      "|    294|  485|\n",
      "|    286|  481|\n",
      "|    288|  478|\n",
      "|      1|  452|\n",
      "|    300|  431|\n",
      "|    121|  429|\n",
      "|    174|  420|\n",
      "|    127|  413|\n",
      "|     56|  394|\n",
      "|      7|  392|\n",
      "|     98|  390|\n",
      "|    237|  384|\n",
      "|    117|  378|\n",
      "|    172|  367|\n",
      "|    222|  365|\n",
      "|    204|  350|\n",
      "|    313|  350|\n",
      "|    405|  344|\n",
      "|     79|  336|\n",
      "|    210|  331|\n",
      "|    151|  326|\n",
      "|    173|  324|\n",
      "|     69|  321|\n",
      "|    748|  316|\n",
      "|    168|  316|\n",
      "|    269|  315|\n",
      "|    257|  303|\n",
      "|    195|  301|\n",
      "|    423|  300|\n",
      "|      9|  299|\n",
      "|    318|  298|\n",
      "|    276|  298|\n",
      "|    302|  297|\n",
      "|     22|  297|\n",
      "|    328|  295|\n",
      "|     96|  295|\n",
      "|    118|  293|\n",
      "|     15|  293|\n",
      "|     25|  293|\n",
      "|    183|  291|\n",
      "|    216|  290|\n",
      "|    176|  284|\n",
      "|     64|  283|\n",
      "|    202|  280|\n",
      "|    234|  280|\n",
      "|     28|  276|\n",
      "|    191|  276|\n",
      "|     89|  275|\n",
      "|    111|  272|\n",
      "|    275|  268|\n",
      "|     12|  267|\n",
      "|    742|  267|\n",
      "|    357|  264|\n",
      "|     82|  261|\n",
      "|    289|  259|\n",
      "|    135|  259|\n",
      "|     97|  256|\n",
      "|    238|  256|\n",
      "|    268|  255|\n",
      "|    546|  254|\n",
      "|    333|  251|\n",
      "|    196|  251|\n",
      "|    186|  251|\n",
      "|     70|  251|\n",
      "|    475|  250|\n",
      "|    153|  247|\n",
      "|    132|  246|\n",
      "|    228|  244|\n",
      "|    125|  244|\n",
      "|    144|  243|\n",
      "|    483|  243|\n",
      "|    194|  241|\n",
      "|    323|  240|\n",
      "|    245|  240|\n",
      "|    197|  239|\n",
      "|    185|  239|\n",
      "|     11|  236|\n",
      "|    282|  232|\n",
      "|    496|  231|\n",
      "|    301|  230|\n",
      "|    568|  230|\n",
      "|    265|  227|\n",
      "|    655|  227|\n",
      "|    182|  226|\n",
      "|    273|  223|\n",
      "|    143|  222|\n",
      "|    471|  221|\n",
      "|    179|  221|\n",
      "|    180|  221|\n",
      "|     71|  220|\n",
      "|    161|  220|\n",
      "|      8|  219|\n",
      "|    427|  219|\n",
      "|     95|  219|\n",
      "|    678|  219|\n",
      "|    322|  218|\n",
      "+-------+-----+\n",
      "only showing top 100 rows\n",
      "\n"
     ]
    }
   ],
   "source": [
    "topMovieIDs.show(100)"
   ]
  },
  {
   "cell_type": "code",
   "execution_count": 7,
   "metadata": {},
   "outputs": [],
   "source": [
    "import codecs\n",
    "def loadMovieNames():\n",
    "    movieNames = {}\n",
    "    # CHANGE THIS TO THE PATH TO YOUR u.ITEM FILE:\n",
    "    with codecs.open(\"../ml-100k/u.item\", \"r\", encoding='ISO-8859-1', errors='ignore') as f:\n",
    "        for line in f:\n",
    "            fields = line.split('|')\n",
    "            movieNames[int(fields[0])] = fields[1]\n",
    "    return movieNames"
   ]
  },
  {
   "cell_type": "code",
   "execution_count": 8,
   "metadata": {},
   "outputs": [],
   "source": [
    "nameDict = spark.sparkContext.broadcast(loadMovieNames())"
   ]
  },
  {
   "cell_type": "code",
   "execution_count": 10,
   "metadata": {},
   "outputs": [],
   "source": [
    "movieCounts = movieDF.groupBy('movieID').count()"
   ]
  },
  {
   "cell_type": "code",
   "execution_count": 11,
   "metadata": {},
   "outputs": [],
   "source": [
    "def lookupName(movieID):\n",
    "    return nameDict.value[movieID]"
   ]
  },
  {
   "cell_type": "code",
   "execution_count": 12,
   "metadata": {},
   "outputs": [],
   "source": [
    "lookupNameUDF = func.udf(lookupName)"
   ]
  },
  {
   "cell_type": "code",
   "execution_count": 13,
   "metadata": {},
   "outputs": [],
   "source": [
    "moviesWithNames = movieCounts.withColumn(\"movieTitle\", lookupNameUDF(func.col(\"movieID\")))"
   ]
  },
  {
   "cell_type": "code",
   "execution_count": 14,
   "metadata": {},
   "outputs": [],
   "source": [
    "sortedMoviesWithNames = moviesWithNames.orderBy(func.desc(\"count\"))"
   ]
  },
  {
   "cell_type": "code",
   "execution_count": 15,
   "metadata": {},
   "outputs": [
    {
     "name": "stdout",
     "output_type": "stream",
     "text": [
      "+-------+-----+--------------------+\n",
      "|movieID|count|          movieTitle|\n",
      "+-------+-----+--------------------+\n",
      "|     50|  583|    Star Wars (1977)|\n",
      "|    258|  509|      Contact (1997)|\n",
      "|    100|  508|        Fargo (1996)|\n",
      "|    181|  507|Return of the Jed...|\n",
      "|    294|  485|    Liar Liar (1997)|\n",
      "|    286|  481|English Patient, ...|\n",
      "|    288|  478|       Scream (1996)|\n",
      "|      1|  452|    Toy Story (1995)|\n",
      "|    300|  431|Air Force One (1997)|\n",
      "|    121|  429|Independence Day ...|\n",
      "+-------+-----+--------------------+\n",
      "only showing top 10 rows\n",
      "\n"
     ]
    }
   ],
   "source": [
    "sortedMoviesWithNames.show(10)"
   ]
  },
  {
   "cell_type": "code",
   "execution_count": null,
   "metadata": {},
   "outputs": [],
   "source": []
  }
 ],
 "metadata": {
  "kernelspec": {
   "display_name": "Python 3.9.12 ('myenv')",
   "language": "python",
   "name": "python3"
  },
  "language_info": {
   "codemirror_mode": {
    "name": "ipython",
    "version": 3
   },
   "file_extension": ".py",
   "mimetype": "text/x-python",
   "name": "python",
   "nbconvert_exporter": "python",
   "pygments_lexer": "ipython3",
   "version": "3.9.12"
  },
  "orig_nbformat": 4,
  "vscode": {
   "interpreter": {
    "hash": "d0cba66a251407c4fd3274a4451f5ba531487019d435e911d200eb38a157ba3e"
   }
  }
 },
 "nbformat": 4,
 "nbformat_minor": 2
}
