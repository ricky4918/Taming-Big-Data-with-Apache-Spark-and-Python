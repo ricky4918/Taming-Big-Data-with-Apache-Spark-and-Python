{
 "cells": [
  {
   "cell_type": "code",
   "execution_count": 1,
   "metadata": {},
   "outputs": [],
   "source": [
    "import findspark\n",
    "findspark.init()\n",
    "from pyspark.sql import SparkSession\n",
    "from pyspark.sql import Row\n",
    "from pyspark.sql import functions as func\n",
    "from pyspark.sql.types import StructType, StructField, StringType, IntegerType, FloatType, LongType\n",
    "import codecs\n",
    "spark = SparkSession.builder.appName('heros').getOrCreate()"
   ]
  },
  {
   "cell_type": "code",
   "execution_count": 3,
   "metadata": {},
   "outputs": [],
   "source": [
    "schema = StructType([StructField('id', IntegerType(), True),\n",
    "                    StructField('name', StringType(), True)])"
   ]
  },
  {
   "cell_type": "code",
   "execution_count": 4,
   "metadata": {},
   "outputs": [],
   "source": [
    "names = spark.read.schema(schema).option('sep', ' ').csv('data/Marvel+Names')"
   ]
  },
  {
   "cell_type": "code",
   "execution_count": 5,
   "metadata": {},
   "outputs": [],
   "source": [
    "lines = spark.read.text(\"data/Marvel+Graph\")"
   ]
  },
  {
   "cell_type": "code",
   "execution_count": 6,
   "metadata": {},
   "outputs": [
    {
     "name": "stdout",
     "output_type": "stream",
     "text": [
      "+--------------------+\n",
      "|               value|\n",
      "+--------------------+\n",
      "|5988 748 1722 375...|\n",
      "|5989 4080 4264 44...|\n",
      "|5982 217 595 1194...|\n",
      "|5983 1165 3836 43...|\n",
      "|5980 2731 3712 15...|\n",
      "|5981 3569 5353 40...|\n",
      "|5986 2658 3712 26...|\n",
      "|5987 2614 5716 17...|\n",
      "|5984 590 4898 745...|\n",
      "|5985 3233 2254 21...|\n",
      "|6294 4898 1127 32...|\n",
      "|270 2658 3003 380...|\n",
      "|271 4935 5716 430...|\n",
      "|272 2717 4363 408...|\n",
      "|273 1165 5013 511...|\n",
      "|274 3920 5310 402...|\n",
      "|275 4366 3373 158...|\n",
      "|276 2277 5251 480...|\n",
      "|277 1068 3495 619...|\n",
      "|278 1145 667 2650...|\n",
      "+--------------------+\n",
      "only showing top 20 rows\n",
      "\n"
     ]
    }
   ],
   "source": [
    "lines.show()"
   ]
  },
  {
   "cell_type": "code",
   "execution_count": 9,
   "metadata": {},
   "outputs": [],
   "source": [
    "connections = lines.withColumn('id', func.split(func.col(\"value\"), \" \")[0]).withColumn(\"connections\", func.size(func.split(func.col(\"value\"), \" \"))-1).groupBy('id').agg(func.sum(\"connections\").alias(\"connections\"))"
   ]
  },
  {
   "cell_type": "code",
   "execution_count": 10,
   "metadata": {},
   "outputs": [
    {
     "name": "stdout",
     "output_type": "stream",
     "text": [
      "+----+-----------+\n",
      "|  id|connections|\n",
      "+----+-----------+\n",
      "| 691|          7|\n",
      "|1159|         12|\n",
      "|3959|        143|\n",
      "|1572|         36|\n",
      "|2294|         15|\n",
      "|1090|          5|\n",
      "|3606|        172|\n",
      "|3414|          8|\n",
      "| 296|         18|\n",
      "|4821|         17|\n",
      "|2162|         42|\n",
      "|1436|         10|\n",
      "|1512|         12|\n",
      "|6194|         15|\n",
      "|6240|         12|\n",
      "| 829|         38|\n",
      "|2136|          7|\n",
      "|5645|         21|\n",
      "|2069|        264|\n",
      "| 467|          1|\n",
      "+----+-----------+\n",
      "only showing top 20 rows\n",
      "\n"
     ]
    }
   ],
   "source": [
    "connections.show()"
   ]
  },
  {
   "cell_type": "code",
   "execution_count": 11,
   "metadata": {},
   "outputs": [],
   "source": [
    "mostPopular = connections.sort(func.col(\"connections\").desc()).first()"
   ]
  },
  {
   "cell_type": "code",
   "execution_count": 12,
   "metadata": {},
   "outputs": [],
   "source": [
    "mostPopularNmae = names.filter(func.col(\"id\") == mostPopular[0]).select('name').first()"
   ]
  },
  {
   "cell_type": "code",
   "execution_count": 15,
   "metadata": {},
   "outputs": [
    {
     "name": "stdout",
     "output_type": "stream",
     "text": [
      "CAPTAIN AMERICA is the most popular superhero with 1937 co-apperances\n"
     ]
    }
   ],
   "source": [
    "print(mostPopularNmae[0] + \" is the most popular superhero with \" + str(mostPopular[1]) + \" co-apperances\")"
   ]
  },
  {
   "cell_type": "code",
   "execution_count": null,
   "metadata": {},
   "outputs": [],
   "source": []
  }
 ],
 "metadata": {
  "kernelspec": {
   "display_name": "Python 3.9.12 ('myenv')",
   "language": "python",
   "name": "python3"
  },
  "language_info": {
   "codemirror_mode": {
    "name": "ipython",
    "version": 3
   },
   "file_extension": ".py",
   "mimetype": "text/x-python",
   "name": "python",
   "nbconvert_exporter": "python",
   "pygments_lexer": "ipython3",
   "version": "3.9.12"
  },
  "orig_nbformat": 4,
  "vscode": {
   "interpreter": {
    "hash": "d0cba66a251407c4fd3274a4451f5ba531487019d435e911d200eb38a157ba3e"
   }
  }
 },
 "nbformat": 4,
 "nbformat_minor": 2
}
